{
  "nbformat": 4,
  "nbformat_minor": 0,
  "metadata": {
    "colab": {
      "provenance": [],
      "authorship_tag": "ABX9TyMhhYlL+LYuq0r6ChxvdzN0",
      "include_colab_link": true
    },
    "kernelspec": {
      "name": "python3",
      "display_name": "Python 3"
    },
    "language_info": {
      "name": "python"
    }
  },
  "cells": [
    {
      "cell_type": "markdown",
      "metadata": {
        "id": "view-in-github",
        "colab_type": "text"
      },
      "source": [
        "<a href=\"https://colab.research.google.com/github/GopalChinta/Django-Evaluation/blob/main/Regex.ipynb\" target=\"_parent\"><img src=\"https://colab.research.google.com/assets/colab-badge.svg\" alt=\"Open In Colab\"/></a>"
      ]
    },
    {
      "cell_type": "code",
      "source": [
        "import re\n",
        "\n",
        "# Input JSON text\n",
        "text = '{\"orders\":[{\"id\":1},{\"id\":2},{\"id\":3},{\"id\":4},{\"id\":5},{\"id\":6},{\"id\":7},{\"id\":8},{\"id\":9},{\"id\":10},{\"id\":11},{\"id\":648},{\"id\":649},{\"id\":650},{\"id\":651},{\"id\":652},{\"id\":653}],\"errors\":[{\"code\":3,\"message\":\"[PHP Warning #2] count(): Parameter must be an array or an object that implements Countable (153)\"}]}'\n",
        "\n",
        "# Regex to extract all numbers associated with \"id\"\n",
        "regex = r'\"id\":(\\d+)'\n",
        "\n",
        "# Find all matches\n",
        "matches = re.findall(regex, text)\n",
        "\n",
        "# Convert matches to integers\n",
        "numbers = [int(match) for match in matches]\n",
        "\n",
        "# Output the list of numbers\n",
        "print(\"Numbers with Orange Color Background:\")\n",
        "for number in numbers:\n",
        "    print(f\"\\033[48;2;255;165;0m {number} \\033[0m\")  # Orange background in terminal"
      ],
      "metadata": {
        "colab": {
          "base_uri": "https://localhost:8080/"
        },
        "id": "C2B5ldZsYMzQ",
        "outputId": "bc325b07-bb77-4831-e56b-812bb0c79612"
      },
      "execution_count": null,
      "outputs": [
        {
          "output_type": "stream",
          "name": "stdout",
          "text": [
            "Numbers with Orange Color Background:\n",
            "\u001b[48;2;255;165;0m 1 \u001b[0m\n",
            "\u001b[48;2;255;165;0m 2 \u001b[0m\n",
            "\u001b[48;2;255;165;0m 3 \u001b[0m\n",
            "\u001b[48;2;255;165;0m 4 \u001b[0m\n",
            "\u001b[48;2;255;165;0m 5 \u001b[0m\n",
            "\u001b[48;2;255;165;0m 6 \u001b[0m\n",
            "\u001b[48;2;255;165;0m 7 \u001b[0m\n",
            "\u001b[48;2;255;165;0m 8 \u001b[0m\n",
            "\u001b[48;2;255;165;0m 9 \u001b[0m\n",
            "\u001b[48;2;255;165;0m 10 \u001b[0m\n",
            "\u001b[48;2;255;165;0m 11 \u001b[0m\n",
            "\u001b[48;2;255;165;0m 648 \u001b[0m\n",
            "\u001b[48;2;255;165;0m 649 \u001b[0m\n",
            "\u001b[48;2;255;165;0m 650 \u001b[0m\n",
            "\u001b[48;2;255;165;0m 651 \u001b[0m\n",
            "\u001b[48;2;255;165;0m 652 \u001b[0m\n",
            "\u001b[48;2;255;165;0m 653 \u001b[0m\n"
          ]
        }
      ]
    }
  ]
}